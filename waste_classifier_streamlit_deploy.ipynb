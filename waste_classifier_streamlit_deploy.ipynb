{
  "nbformat": 4,
  "nbformat_minor": 0,
  "metadata": {
    "colab": {
      "name": "waste_classifier_streamlit_deploy.ipynb",
      "provenance": [],
      "collapsed_sections": [],
      "mount_file_id": "15tdIdS47ypksE8dJYgJaauXW04IOMgZu",
      "authorship_tag": "ABX9TyPVJ/dL8FG7XKz87mzIQURh",
      "include_colab_link": true
    },
    "kernelspec": {
      "name": "python3",
      "display_name": "Python 3"
    }
  },
  "cells": [
    {
      "cell_type": "markdown",
      "metadata": {
        "id": "view-in-github",
        "colab_type": "text"
      },
      "source": [
        "<a href=\"https://colab.research.google.com/github/hritik880/Waste-Classifier/blob/master/waste_classifier_streamlit_deploy.ipynb\" target=\"_parent\"><img src=\"https://colab.research.google.com/assets/colab-badge.svg\" alt=\"Open In Colab\"/></a>"
      ]
    },
    {
      "cell_type": "code",
      "metadata": {
        "id": "TIbPsrrxef-Q",
        "colab_type": "code",
        "colab": {
          "base_uri": "https://localhost:8080/",
          "height": 371
        },
        "outputId": "4e3a1aab-ec48-409e-e571-0cec83e519a3"
      },
      "source": [
        "!pip install -U ipykernel"
      ],
      "execution_count": null,
      "outputs": [
        {
          "output_type": "stream",
          "text": [
            "Requirement already up-to-date: ipykernel in /usr/local/lib/python3.6/dist-packages (5.3.4)\n",
            "Requirement already satisfied, skipping upgrade: tornado>=4.2 in /usr/local/lib/python3.6/dist-packages (from ipykernel) (5.1.1)\n",
            "Requirement already satisfied, skipping upgrade: traitlets>=4.1.0 in /usr/local/lib/python3.6/dist-packages (from ipykernel) (4.3.3)\n",
            "Requirement already satisfied, skipping upgrade: jupyter-client in /usr/local/lib/python3.6/dist-packages (from ipykernel) (5.3.5)\n",
            "Requirement already satisfied, skipping upgrade: ipython>=5.0.0 in /usr/local/lib/python3.6/dist-packages (from ipykernel) (5.5.0)\n",
            "Requirement already satisfied, skipping upgrade: decorator in /usr/local/lib/python3.6/dist-packages (from traitlets>=4.1.0->ipykernel) (4.4.2)\n",
            "Requirement already satisfied, skipping upgrade: six in /usr/local/lib/python3.6/dist-packages (from traitlets>=4.1.0->ipykernel) (1.15.0)\n",
            "Requirement already satisfied, skipping upgrade: ipython-genutils in /usr/local/lib/python3.6/dist-packages (from traitlets>=4.1.0->ipykernel) (0.2.0)\n",
            "Requirement already satisfied, skipping upgrade: python-dateutil>=2.1 in /usr/local/lib/python3.6/dist-packages (from jupyter-client->ipykernel) (2.8.1)\n",
            "Requirement already satisfied, skipping upgrade: jupyter-core>=4.6.0 in /usr/local/lib/python3.6/dist-packages (from jupyter-client->ipykernel) (4.6.3)\n",
            "Requirement already satisfied, skipping upgrade: pyzmq>=13 in /usr/local/lib/python3.6/dist-packages (from jupyter-client->ipykernel) (19.0.2)\n",
            "Requirement already satisfied, skipping upgrade: setuptools>=18.5 in /usr/local/lib/python3.6/dist-packages (from ipython>=5.0.0->ipykernel) (49.2.0)\n",
            "Requirement already satisfied, skipping upgrade: pickleshare in /usr/local/lib/python3.6/dist-packages (from ipython>=5.0.0->ipykernel) (0.7.5)\n",
            "Requirement already satisfied, skipping upgrade: simplegeneric>0.8 in /usr/local/lib/python3.6/dist-packages (from ipython>=5.0.0->ipykernel) (0.8.1)\n",
            "Requirement already satisfied, skipping upgrade: pexpect; sys_platform != \"win32\" in /usr/local/lib/python3.6/dist-packages (from ipython>=5.0.0->ipykernel) (4.8.0)\n",
            "Requirement already satisfied, skipping upgrade: pygments in /usr/local/lib/python3.6/dist-packages (from ipython>=5.0.0->ipykernel) (2.1.3)\n",
            "Requirement already satisfied, skipping upgrade: prompt-toolkit<2.0.0,>=1.0.4 in /usr/local/lib/python3.6/dist-packages (from ipython>=5.0.0->ipykernel) (1.0.18)\n",
            "Requirement already satisfied, skipping upgrade: ptyprocess>=0.5 in /usr/local/lib/python3.6/dist-packages (from pexpect; sys_platform != \"win32\"->ipython>=5.0.0->ipykernel) (0.6.0)\n",
            "Requirement already satisfied, skipping upgrade: wcwidth in /usr/local/lib/python3.6/dist-packages (from prompt-toolkit<2.0.0,>=1.0.4->ipython>=5.0.0->ipykernel) (0.2.5)\n"
          ],
          "name": "stdout"
        }
      ]
    },
    {
      "cell_type": "code",
      "metadata": {
        "id": "kB82Q0WJfOfC",
        "colab_type": "code",
        "colab": {}
      },
      "source": [
        "!pip install -q streamlit"
      ],
      "execution_count": null,
      "outputs": []
    },
    {
      "cell_type": "code",
      "metadata": {
        "id": "lZye4bXszCP6",
        "colab_type": "code",
        "colab": {
          "base_uri": "https://localhost:8080/",
          "height": 70
        },
        "outputId": "dd9933b6-5970-4233-f988-7cd9a801fee6"
      },
      "source": [
        "!pip install pyngrok"
      ],
      "execution_count": null,
      "outputs": [
        {
          "output_type": "stream",
          "text": [
            "Requirement already satisfied: pyngrok in /usr/local/lib/python3.6/dist-packages (4.1.10)\n",
            "Requirement already satisfied: PyYAML in /usr/local/lib/python3.6/dist-packages (from pyngrok) (3.13)\n",
            "Requirement already satisfied: future in /usr/local/lib/python3.6/dist-packages (from pyngrok) (0.16.0)\n"
          ],
          "name": "stdout"
        }
      ]
    },
    {
      "cell_type": "code",
      "metadata": {
        "id": "cyy8tqzJ0YKA",
        "colab_type": "code",
        "colab": {
          "base_uri": "https://localhost:8080/",
          "height": 34
        },
        "outputId": "d2ea3346-2ab4-4795-cc6c-a0aac1498c45"
      },
      "source": [
        "!ngrok authtoken 1gJocRcIpqsOAVahoJH3YcMg6c0_FYQ3NNeTwaBFw3xes1vt"
      ],
      "execution_count": null,
      "outputs": [
        {
          "output_type": "stream",
          "text": [
            "Authtoken saved to configuration file: /root/.ngrok2/ngrok.yml\n"
          ],
          "name": "stdout"
        }
      ]
    },
    {
      "cell_type": "code",
      "metadata": {
        "id": "fGMMb-e6fR60",
        "colab_type": "code",
        "colab": {
          "base_uri": "https://localhost:8080/",
          "height": 34
        },
        "outputId": "552a7d4f-6d3b-408b-98bc-0c48eae81758"
      },
      "source": [
        "%%writefile score.py\n",
        "\n",
        "import tensorflow as tf \n",
        "import numpy as np \n",
        "import streamlit as st\n",
        "from PIL import Image \n",
        "import requests\n",
        "from io import BytesIO\n",
        "from tensorflow.keras.preprocessing import image\n",
        "from tensorflow.keras.preprocessing.image import array_to_img, img_to_array\n",
        "\n",
        "st.set_option('deprecation.showfileUploaderEncoding', False)\n",
        "\n",
        "st.write(\"\"\"\n",
        "        # Waste Classification\n",
        "        \"\"\"\n",
        "        )\n",
        "\n",
        "st.write(\"This is a simple image classification web app to predict type of waste\")\n",
        "\n",
        "@st.cache(allow_output_mutation =True)\n",
        "def load_model():\n",
        "  model = tf.keras.models.load_model(r'/content/drive/My Drive/Resnet_wc/models')\n",
        "  return model\n",
        "\n",
        "\n",
        "with  st.spinner('Loading Model....'):\n",
        "  model = load_model()\n",
        "\n",
        "labels = {0: 'cardboard', 1: 'glass', 2: 'metal', 3: 'paper', 4: 'plastic', 5: 'trash'}\n",
        "\n",
        "def preprocess(img):\n",
        "  width, height = img.shape[0], img.shape[1]\n",
        "  img = image.array_to_img(img, scale=False)\n",
        "  img = img.resize((256,256))\n",
        "  img = image.img_to_array(img)\n",
        "  img /= 255.0\n",
        "  img = np.expand_dims(img,axis=0)\n",
        "  return img\n",
        "\n",
        "\n",
        "file = st.file_uploader(\"Please upload an image file\", type=[\"jpg\", \"png\"])\n",
        "\n",
        "if file is None:\n",
        "  st.text(\"You haven't uploaded an image file\")\n",
        "else:\n",
        "  original_img = Image.open(file)\n",
        "  st.image(original_img, use_column_width=True)\n",
        "  img = image.img_to_array(original_img)\n",
        "  a = preprocess(img)\n",
        "  probs = model.predict(a)\n",
        "  pred = labels[np.argmax(probs)]\n",
        "  st.write(pred)\n",
        "  st.text(\"Probability (0: 'cardboard', 1: 'glass', 2: 'metal', 3: 'paper', 4: 'plastic', 5: 'trash')\")\n",
        "  st.write(probs)\n"
      ],
      "execution_count": null,
      "outputs": [
        {
          "output_type": "stream",
          "text": [
            "Overwriting score.py\n"
          ],
          "name": "stdout"
        }
      ]
    },
    {
      "cell_type": "code",
      "metadata": {
        "id": "amBSZotTt2lT",
        "colab_type": "code",
        "colab": {
          "base_uri": "https://localhost:8080/",
          "height": 34
        },
        "outputId": "0756b2cd-d4f4-464e-d29c-2fa42036704f"
      },
      "source": [
        "!nohup streamlit run score.py &"
      ],
      "execution_count": null,
      "outputs": [
        {
          "output_type": "stream",
          "text": [
            "nohup: appending output to 'nohup.out'\n"
          ],
          "name": "stdout"
        }
      ]
    },
    {
      "cell_type": "code",
      "metadata": {
        "id": "cxeW07Ta2F-n",
        "colab_type": "code",
        "colab": {
          "base_uri": "https://localhost:8080/",
          "height": 35
        },
        "outputId": "b2cf2de7-7db0-4a1e-bd02-d5dfb1e9328a"
      },
      "source": [
        "from pyngrok import ngrok\n",
        "url = ngrok.connect(port=8501)\n",
        "url"
      ],
      "execution_count": null,
      "outputs": [
        {
          "output_type": "execute_result",
          "data": {
            "application/vnd.google.colaboratory.intrinsic+json": {
              "type": "string"
            },
            "text/plain": [
              "'http://656e62bd5b9f.ngrok.io'"
            ]
          },
          "metadata": {
            "tags": []
          },
          "execution_count": 62
        }
      ]
    },
    {
      "cell_type": "code",
      "metadata": {
        "id": "5hO1DN7522oE",
        "colab_type": "code",
        "colab": {}
      },
      "source": [
        "ngrok.kill()"
      ],
      "execution_count": null,
      "outputs": []
    }
  ]
}