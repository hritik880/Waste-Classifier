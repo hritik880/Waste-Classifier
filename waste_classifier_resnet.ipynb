{
  "nbformat": 4,
  "nbformat_minor": 0,
  "metadata": {
    "colab": {
      "name": "waste_classifier.ipynb",
      "provenance": [],
      "collapsed_sections": [],
      "include_colab_link": true
    },
    "kernelspec": {
      "name": "python3",
      "display_name": "Python 3"
    },
    "accelerator": "GPU"
  },
  "cells": [
    {
      "cell_type": "markdown",
      "metadata": {
        "id": "view-in-github",
        "colab_type": "text"
      },
      "source": [
        "<a href=\"https://colab.research.google.com/github/hritik880/Waste-Classifier/blob/master/waste_classifier_resnet.ipynb\" target=\"_parent\"><img src=\"https://colab.research.google.com/assets/colab-badge.svg\" alt=\"Open In Colab\"/></a>"
      ]
    },
    {
      "cell_type": "code",
      "metadata": {
        "id": "n3PrpQoRPD3Q",
        "colab_type": "code",
        "colab": {
          "base_uri": "https://localhost:8080/",
          "height": 34
        },
        "outputId": "aee0c8a9-d2ac-4b50-fe29-c94e880c1d5f"
      },
      "source": [
        "from google.colab import drive\n",
        "drive.mount('/content/gdrive')"
      ],
      "execution_count": 2,
      "outputs": [
        {
          "output_type": "stream",
          "text": [
            "Drive already mounted at /content/gdrive; to attempt to forcibly remount, call drive.mount(\"/content/gdrive\", force_remount=True).\n"
          ],
          "name": "stdout"
        }
      ]
    },
    {
      "cell_type": "code",
      "metadata": {
        "id": "eOmn7_qxh8ah",
        "colab_type": "code",
        "colab": {
          "base_uri": "https://localhost:8080/",
          "height": 72
        },
        "outputId": "a4af5d7e-e7cd-490f-9fac-590f67c892d5"
      },
      "source": [
        "import matplotlib.pyplot as plt\n",
        "import pandas as pd\n",
        "import numpy as np\n",
        "import seaborn as sns\n",
        "import os\n",
        "import random\n",
        "import zipfile as zf\n",
        "import shutil\n",
        "import re\n",
        "from sklearn.metrics import confusion_matrix, classification_report\n",
        "import tensorflow as tf\n",
        "from tensorflow.keras.callbacks import ReduceLROnPlateau, ModelCheckpoint"
      ],
      "execution_count": 3,
      "outputs": [
        {
          "output_type": "stream",
          "text": [
            "/usr/local/lib/python3.6/dist-packages/statsmodels/tools/_testing.py:19: FutureWarning: pandas.util.testing is deprecated. Use the functions in the public API at pandas.testing instead.\n",
            "  import pandas.util.testing as tm\n"
          ],
          "name": "stderr"
        }
      ]
    },
    {
      "cell_type": "code",
      "metadata": {
        "id": "RniJ6hYQrRSp",
        "colab_type": "code",
        "colab": {}
      },
      "source": [
        "!cp /content/gdrive/\"My Drive\"/dataset-resized.zip ./"
      ],
      "execution_count": 4,
      "outputs": []
    },
    {
      "cell_type": "code",
      "metadata": {
        "id": "8OZjGsaQq492",
        "colab_type": "code",
        "colab": {}
      },
      "source": [
        "files = zf.ZipFile(\"/content/dataset-resized.zip\",'r')\n",
        "files.extractall()\n",
        "files.close()"
      ],
      "execution_count": 5,
      "outputs": []
    },
    {
      "cell_type": "code",
      "metadata": {
        "id": "WOVJ4DKeBZhH",
        "colab_type": "code",
        "colab": {}
      },
      "source": [
        ""
      ],
      "execution_count": 5,
      "outputs": []
    },
    {
      "cell_type": "code",
      "metadata": {
        "id": "MAcHDn6ww5tJ",
        "colab_type": "code",
        "colab": {}
      },
      "source": [
        "!rm /content/dataset-resized.zip"
      ],
      "execution_count": 6,
      "outputs": []
    },
    {
      "cell_type": "code",
      "metadata": {
        "id": "DbpX7DtVruYe",
        "colab_type": "code",
        "colab": {}
      },
      "source": [
        "def split_indices(folder,seed1,seed2):    \n",
        "    n = len(os.listdir(folder))\n",
        "    full_set = list(range(1,n+1))\n",
        "\n",
        "    ## train indices\n",
        "    random.seed(seed1)\n",
        "    train = random.sample(list(range(1,n+1)),int(.5*n))\n",
        "\n",
        "    ## temp\n",
        "    remain = list(set(full_set)-set(train))\n",
        "\n",
        "    ## separate remaining into validation and test\n",
        "    random.seed(seed2)\n",
        "    valid = random.sample(remain,int(.5*len(remain)))\n",
        "    test = list(set(remain)-set(valid))\n",
        "    \n",
        "    return(train,valid,test)\n",
        "\n",
        "## gets file names for a particular type of trash, given indices\n",
        "    ## input: waste category and indices\n",
        "    ## output: file names \n",
        "def get_names(waste_type,indices):\n",
        "    file_names = [waste_type+str(i)+\".jpg\" for i in indices]\n",
        "    return(file_names)    \n",
        "\n",
        "## moves group of source files to another folder\n",
        "    ## input: list of source files and destination folder\n",
        "    ## no output\n",
        "def move_files(source_files,destination_folder):\n",
        "    for file in source_files:\n",
        "        shutil.move(file,destination_folder)"
      ],
      "execution_count": 7,
      "outputs": []
    },
    {
      "cell_type": "code",
      "metadata": {
        "id": "ZXb0CCQtr69S",
        "colab_type": "code",
        "colab": {}
      },
      "source": [
        "subsets = ['train','valid']\n",
        "waste_types = ['cardboard','glass','metal','paper','plastic','trash']\n",
        "\n",
        "## create destination folders for data subset and waste type\n",
        "for subset in subsets:\n",
        "    for waste_type in waste_types:\n",
        "        folder = os.path.join('data',subset,waste_type)\n",
        "        if not os.path.exists(folder):\n",
        "            os.makedirs(folder)\n",
        "            \n",
        "if not os.path.exists(os.path.join('data','test')):\n",
        "    os.makedirs(os.path.join('data','test'))\n",
        "            \n",
        "## move files to destination folders for each waste type\n",
        "for waste_type in waste_types:\n",
        "    source_folder = os.path.join('dataset-resized',waste_type)\n",
        "    train_ind, valid_ind, test_ind = split_indices(source_folder,1,1)\n",
        "    \n",
        "    ## move source files to train\n",
        "    train_names = get_names(waste_type,train_ind)\n",
        "    train_source_files = [os.path.join(source_folder,name) for name in train_names]\n",
        "    train_dest = \"data/train/\"+waste_type\n",
        "    move_files(train_source_files,train_dest)\n",
        "    \n",
        "    ## move source files to valid\n",
        "    valid_names = get_names(waste_type,valid_ind)\n",
        "    valid_source_files = [os.path.join(source_folder,name) for name in valid_names]\n",
        "    valid_dest = \"data/valid/\"+waste_type\n",
        "    move_files(valid_source_files,valid_dest)\n",
        "    \n",
        "    ## move source files to test\n",
        "    test_names = get_names(waste_type,test_ind)\n",
        "    test_source_files = [os.path.join(source_folder,name) for name in test_names]\n",
        "    ## I use data/test here because the images can be mixed up\n",
        "    move_files(test_source_files,\"data/test\")"
      ],
      "execution_count": 11,
      "outputs": []
    },
    {
      "cell_type": "code",
      "metadata": {
        "id": "NH0ZqOhd9yaj",
        "colab_type": "code",
        "colab": {}
      },
      "source": [
        "from tensorflow.keras.preprocessing.image import ImageDataGenerator\n",
        "train_datagen = ImageDataGenerator(\n",
        "        rescale=1./255,\n",
        "        shear_range=0.2,\n",
        "        zoom_range=0.2,\n",
        "        horizontal_flip=True)\n",
        "\n",
        "\n",
        "test_datagen = ImageDataGenerator(rescale=1./255)"
      ],
      "execution_count": 14,
      "outputs": []
    },
    {
      "cell_type": "code",
      "metadata": {
        "id": "ZPGI56-C92ah",
        "colab_type": "code",
        "colab": {
          "base_uri": "https://localhost:8080/",
          "height": 34
        },
        "outputId": "f3b1fe3c-964e-4417-a5a3-c3587a640f4a"
      },
      "source": [
        "train_gen = train_datagen.flow_from_directory(r'/content/data/train',\n",
        "                                                    target_size=(224, 224),\n",
        "                                                    batch_size=16,\n",
        "                                                    color_mode=\"rgb\",\n",
        "                                                    shuffle=True,\n",
        "                                                    class_mode='categorical')"
      ],
      "execution_count": 15,
      "outputs": [
        {
          "output_type": "stream",
          "text": [
            "Found 1262 images belonging to 6 classes.\n"
          ],
          "name": "stdout"
        }
      ]
    },
    {
      "cell_type": "code",
      "metadata": {
        "id": "qdOshMM39_vs",
        "colab_type": "code",
        "colab": {
          "base_uri": "https://localhost:8080/",
          "height": 34
        },
        "outputId": "aa436996-2b71-4202-dd3f-ee77ce413224"
      },
      "source": [
        "test_gen = test_datagen.flow_from_directory(r'/content/data/valid',\n",
        "                                                    target_size=(224, 224),\n",
        "                                                    batch_size=16,\n",
        "                                                    color_mode=\"rgb\",\n",
        "                                                    shuffle =False,\n",
        "                                                    class_mode='categorical')"
      ],
      "execution_count": 16,
      "outputs": [
        {
          "output_type": "stream",
          "text": [
            "Found 630 images belonging to 6 classes.\n"
          ],
          "name": "stdout"
        }
      ]
    },
    {
      "cell_type": "code",
      "metadata": {
        "id": "dRvFc8VVC-zc",
        "colab_type": "code",
        "colab": {}
      },
      "source": [
        "from tensorflow.keras.layers import Input,Convolution2D ,GlobalAveragePooling2D,MaxPooling2D ,Dense, Flatten, Dropout\n",
        "from tensorflow.keras.models import Model , Sequential\n",
        "from tensorflow.keras.optimizers import Adam\n",
        "from tensorflow.keras.applications import ResNet50\n",
        "from sklearn.metrics import classification_report\n"
      ],
      "execution_count": 71,
      "outputs": []
    },
    {
      "cell_type": "code",
      "metadata": {
        "id": "zC_s2mUDHe6P",
        "colab_type": "code",
        "colab": {}
      },
      "source": [
        "inception_base = ResNet50(weights='imagenet', include_top=False)\n",
        "\n",
        "# add a global spatial average pooling layer\n",
        "x = inception_base.output\n",
        "x = GlobalAveragePooling2D()(x)\n",
        "# add a fully-connected layer\n",
        "x = Dense(512, activation='relu')(x)\n",
        "# and a fully connected output/classification layer\n",
        "predictions = Dense(6, activation='softmax')(x)\n",
        "# create the full network so we can train on it\n",
        "inception_transfer = Model(inputs=inception_base.input, outputs=predictions)"
      ],
      "execution_count": 73,
      "outputs": []
    },
    {
      "cell_type": "code",
      "metadata": {
        "id": "Q90X9NOJC_JR",
        "colab_type": "code",
        "colab": {}
      },
      "source": [
        "inception_transfer.compile(loss='categorical_crossentropy',\n",
        "              optimizer=tf.keras.optimizers.SGD(lr=1e-4, momentum=0.9),\n",
        "              metrics=['accuracy'])"
      ],
      "execution_count": 75,
      "outputs": []
    },
    {
      "cell_type": "code",
      "metadata": {
        "id": "8BPs821qJ2lN",
        "colab_type": "code",
        "colab": {}
      },
      "source": [
        "output_dir = r'/content/gdrive/My Drive/Resnet_wc'\n",
        "learning_rate_reduction = ReduceLROnPlateau(monitor='val_loss', patience=4, verbose=1,\n",
        "                                                factor=0.1, min_lr=0.00001)\n",
        "save_model = ModelCheckpoint(filepath=output_dir + \"/resnet_model.h5\", monitor='val_loss', verbose=1,\n",
        "                                 save_best_only=True, save_weights_only=False, mode='min', save_freq='epoch')"
      ],
      "execution_count": 77,
      "outputs": []
    },
    {
      "cell_type": "code",
      "metadata": {
        "id": "R54V-xEeGOw_",
        "colab_type": "code",
        "colab": {
          "base_uri": "https://localhost:8080/",
          "height": 263
        },
        "outputId": "d7da9f04-734f-439a-ef5b-6f02373790af"
      },
      "source": [
        "model.summary()"
      ],
      "execution_count": 67,
      "outputs": [
        {
          "output_type": "stream",
          "text": [
            "Model: \"sequential_4\"\n",
            "_________________________________________________________________\n",
            "Layer (type)                 Output Shape              Param #   \n",
            "=================================================================\n",
            "functional_25 (Functional)   (None, 131072)            23587712  \n",
            "_________________________________________________________________\n",
            "dense_13 (Dense)             (None, 128)               16777344  \n",
            "_________________________________________________________________\n",
            "dense_14 (Dense)             (None, 6)                 774       \n",
            "=================================================================\n",
            "Total params: 40,365,830\n",
            "Trainable params: 16,778,118\n",
            "Non-trainable params: 23,587,712\n",
            "_________________________________________________________________\n"
          ],
          "name": "stdout"
        }
      ]
    },
    {
      "cell_type": "code",
      "metadata": {
        "colab_type": "code",
        "id": "a0VKgDv0xVj9",
        "colab": {
          "base_uri": "https://localhost:8080/",
          "height": 1000
        },
        "outputId": "c031633d-6589-4f6b-c8ff-cd8fb2d7cb15"
      },
      "source": [
        "batch_size = 16\n",
        "history= inception_transfer.fit_generator(train_gen,\n",
        "                    epochs=50,\n",
        "                    steps_per_epoch=(train_gen.n // batch_size) ,\n",
        "                    validation_data = test_gen,\n",
        "                    validation_steps = (test_gen.n // batch_size),\n",
        "                    verbose =1 ,\n",
        "                    callbacks=[learning_rate_reduction, save_model])"
      ],
      "execution_count": 78,
      "outputs": [
        {
          "output_type": "stream",
          "text": [
            "Epoch 1/50\n",
            "78/78 [==============================] - ETA: 0s - loss: 1.5956 - accuracy: 0.3828\n",
            "Epoch 00001: val_loss improved from inf to 1.85750, saving model to /content/gdrive/My Drive/Resnet_wc/resnet_model.h5\n",
            "78/78 [==============================] - 27s 347ms/step - loss: 1.5956 - accuracy: 0.3828 - val_loss: 1.8575 - val_accuracy: 0.2003\n",
            "Epoch 2/50\n",
            "78/78 [==============================] - ETA: 0s - loss: 1.1268 - accuracy: 0.6388\n",
            "Epoch 00002: val_loss did not improve from 1.85750\n",
            "78/78 [==============================] - 25s 316ms/step - loss: 1.1268 - accuracy: 0.6388 - val_loss: 1.9265 - val_accuracy: 0.2003\n",
            "Epoch 3/50\n",
            "78/78 [==============================] - ETA: 0s - loss: 0.8892 - accuracy: 0.7199\n",
            "Epoch 00003: val_loss did not improve from 1.85750\n",
            "78/78 [==============================] - 24s 310ms/step - loss: 0.8892 - accuracy: 0.7199 - val_loss: 2.2099 - val_accuracy: 0.1442\n",
            "Epoch 4/50\n",
            "78/78 [==============================] - ETA: 0s - loss: 0.7459 - accuracy: 0.7544\n",
            "Epoch 00004: val_loss did not improve from 1.85750\n",
            "78/78 [==============================] - 24s 310ms/step - loss: 0.7459 - accuracy: 0.7544 - val_loss: 2.4655 - val_accuracy: 0.1554\n",
            "Epoch 5/50\n",
            "78/78 [==============================] - ETA: 0s - loss: 0.6337 - accuracy: 0.8010\n",
            "Epoch 00005: ReduceLROnPlateau reducing learning rate to 1e-05.\n",
            "\n",
            "Epoch 00005: val_loss did not improve from 1.85750\n",
            "78/78 [==============================] - 24s 306ms/step - loss: 0.6337 - accuracy: 0.8010 - val_loss: 2.6660 - val_accuracy: 0.1506\n",
            "Epoch 6/50\n",
            "78/78 [==============================] - ETA: 0s - loss: 0.5545 - accuracy: 0.8411\n",
            "Epoch 00006: val_loss did not improve from 1.85750\n",
            "78/78 [==============================] - 24s 307ms/step - loss: 0.5545 - accuracy: 0.8411 - val_loss: 2.6746 - val_accuracy: 0.1763\n",
            "Epoch 7/50\n",
            "78/78 [==============================] - ETA: 0s - loss: 0.5462 - accuracy: 0.8475\n",
            "Epoch 00007: val_loss did not improve from 1.85750\n",
            "78/78 [==============================] - 24s 308ms/step - loss: 0.5462 - accuracy: 0.8475 - val_loss: 2.5309 - val_accuracy: 0.2099\n",
            "Epoch 8/50\n",
            "78/78 [==============================] - ETA: 0s - loss: 0.5542 - accuracy: 0.8363\n",
            "Epoch 00008: val_loss did not improve from 1.85750\n",
            "78/78 [==============================] - 24s 304ms/step - loss: 0.5542 - accuracy: 0.8363 - val_loss: 2.2956 - val_accuracy: 0.2532\n",
            "Epoch 9/50\n",
            "78/78 [==============================] - ETA: 0s - loss: 0.5519 - accuracy: 0.8443\n",
            "Epoch 00009: val_loss improved from 1.85750 to 1.84273, saving model to /content/gdrive/My Drive/Resnet_wc/resnet_model.h5\n",
            "78/78 [==============================] - 27s 342ms/step - loss: 0.5519 - accuracy: 0.8443 - val_loss: 1.8427 - val_accuracy: 0.3510\n",
            "Epoch 10/50\n",
            "78/78 [==============================] - ETA: 0s - loss: 0.5247 - accuracy: 0.8579\n",
            "Epoch 00010: val_loss improved from 1.84273 to 1.46099, saving model to /content/gdrive/My Drive/Resnet_wc/resnet_model.h5\n",
            "78/78 [==============================] - 26s 337ms/step - loss: 0.5247 - accuracy: 0.8579 - val_loss: 1.4610 - val_accuracy: 0.4455\n",
            "Epoch 11/50\n",
            "78/78 [==============================] - ETA: 0s - loss: 0.5410 - accuracy: 0.8507\n",
            "Epoch 00011: val_loss improved from 1.46099 to 1.13505, saving model to /content/gdrive/My Drive/Resnet_wc/resnet_model.h5\n",
            "78/78 [==============================] - 27s 342ms/step - loss: 0.5410 - accuracy: 0.8507 - val_loss: 1.1350 - val_accuracy: 0.5673\n",
            "Epoch 12/50\n",
            "78/78 [==============================] - ETA: 0s - loss: 0.5223 - accuracy: 0.8507\n",
            "Epoch 00012: val_loss improved from 1.13505 to 0.89938, saving model to /content/gdrive/My Drive/Resnet_wc/resnet_model.h5\n",
            "78/78 [==============================] - 26s 331ms/step - loss: 0.5223 - accuracy: 0.8507 - val_loss: 0.8994 - val_accuracy: 0.6667\n",
            "Epoch 13/50\n",
            "78/78 [==============================] - ETA: 0s - loss: 0.5143 - accuracy: 0.8459\n",
            "Epoch 00013: val_loss improved from 0.89938 to 0.74883, saving model to /content/gdrive/My Drive/Resnet_wc/resnet_model.h5\n",
            "78/78 [==============================] - 26s 328ms/step - loss: 0.5143 - accuracy: 0.8459 - val_loss: 0.7488 - val_accuracy: 0.7324\n",
            "Epoch 14/50\n",
            "78/78 [==============================] - ETA: 0s - loss: 0.5051 - accuracy: 0.8539\n",
            "Epoch 00014: val_loss improved from 0.74883 to 0.62555, saving model to /content/gdrive/My Drive/Resnet_wc/resnet_model.h5\n",
            "78/78 [==============================] - 26s 332ms/step - loss: 0.5051 - accuracy: 0.8539 - val_loss: 0.6256 - val_accuracy: 0.7837\n",
            "Epoch 15/50\n",
            "78/78 [==============================] - ETA: 0s - loss: 0.5092 - accuracy: 0.8515\n",
            "Epoch 00015: val_loss improved from 0.62555 to 0.55166, saving model to /content/gdrive/My Drive/Resnet_wc/resnet_model.h5\n",
            "78/78 [==============================] - 26s 331ms/step - loss: 0.5092 - accuracy: 0.8515 - val_loss: 0.5517 - val_accuracy: 0.8157\n",
            "Epoch 16/50\n",
            "78/78 [==============================] - ETA: 0s - loss: 0.4987 - accuracy: 0.8579\n",
            "Epoch 00016: val_loss improved from 0.55166 to 0.51658, saving model to /content/gdrive/My Drive/Resnet_wc/resnet_model.h5\n",
            "78/78 [==============================] - 26s 339ms/step - loss: 0.4987 - accuracy: 0.8579 - val_loss: 0.5166 - val_accuracy: 0.8429\n",
            "Epoch 17/50\n",
            "78/78 [==============================] - ETA: 0s - loss: 0.4869 - accuracy: 0.8612\n",
            "Epoch 00017: val_loss improved from 0.51658 to 0.50676, saving model to /content/gdrive/My Drive/Resnet_wc/resnet_model.h5\n",
            "78/78 [==============================] - 26s 334ms/step - loss: 0.4869 - accuracy: 0.8612 - val_loss: 0.5068 - val_accuracy: 0.8526\n",
            "Epoch 18/50\n",
            "78/78 [==============================] - ETA: 0s - loss: 0.4716 - accuracy: 0.8724\n",
            "Epoch 00018: val_loss improved from 0.50676 to 0.50327, saving model to /content/gdrive/My Drive/Resnet_wc/resnet_model.h5\n",
            "78/78 [==============================] - 26s 336ms/step - loss: 0.4716 - accuracy: 0.8724 - val_loss: 0.5033 - val_accuracy: 0.8494\n",
            "Epoch 19/50\n",
            "78/78 [==============================] - ETA: 0s - loss: 0.4575 - accuracy: 0.8828\n",
            "Epoch 00019: val_loss improved from 0.50327 to 0.50131, saving model to /content/gdrive/My Drive/Resnet_wc/resnet_model.h5\n",
            "78/78 [==============================] - 26s 334ms/step - loss: 0.4575 - accuracy: 0.8828 - val_loss: 0.5013 - val_accuracy: 0.8526\n",
            "Epoch 20/50\n",
            "78/78 [==============================] - ETA: 0s - loss: 0.4745 - accuracy: 0.8716\n",
            "Epoch 00020: val_loss improved from 0.50131 to 0.49792, saving model to /content/gdrive/My Drive/Resnet_wc/resnet_model.h5\n",
            "78/78 [==============================] - 26s 339ms/step - loss: 0.4745 - accuracy: 0.8716 - val_loss: 0.4979 - val_accuracy: 0.8526\n",
            "Epoch 21/50\n",
            "78/78 [==============================] - ETA: 0s - loss: 0.4559 - accuracy: 0.8764\n",
            "Epoch 00021: val_loss improved from 0.49792 to 0.49593, saving model to /content/gdrive/My Drive/Resnet_wc/resnet_model.h5\n",
            "78/78 [==============================] - 26s 331ms/step - loss: 0.4559 - accuracy: 0.8764 - val_loss: 0.4959 - val_accuracy: 0.8510\n",
            "Epoch 22/50\n",
            "78/78 [==============================] - ETA: 0s - loss: 0.4602 - accuracy: 0.8644\n",
            "Epoch 00022: val_loss improved from 0.49593 to 0.49019, saving model to /content/gdrive/My Drive/Resnet_wc/resnet_model.h5\n",
            "78/78 [==============================] - 26s 330ms/step - loss: 0.4602 - accuracy: 0.8644 - val_loss: 0.4902 - val_accuracy: 0.8510\n",
            "Epoch 23/50\n",
            "78/78 [==============================] - ETA: 0s - loss: 0.4367 - accuracy: 0.8844\n",
            "Epoch 00023: val_loss improved from 0.49019 to 0.48787, saving model to /content/gdrive/My Drive/Resnet_wc/resnet_model.h5\n",
            "78/78 [==============================] - 26s 336ms/step - loss: 0.4367 - accuracy: 0.8844 - val_loss: 0.4879 - val_accuracy: 0.8526\n",
            "Epoch 24/50\n",
            "78/78 [==============================] - ETA: 0s - loss: 0.4481 - accuracy: 0.8820\n",
            "Epoch 00024: val_loss did not improve from 0.48787\n",
            "78/78 [==============================] - 24s 306ms/step - loss: 0.4481 - accuracy: 0.8820 - val_loss: 0.4890 - val_accuracy: 0.8510\n",
            "Epoch 25/50\n",
            "78/78 [==============================] - ETA: 0s - loss: 0.4353 - accuracy: 0.8909\n",
            "Epoch 00025: val_loss improved from 0.48787 to 0.48272, saving model to /content/gdrive/My Drive/Resnet_wc/resnet_model.h5\n",
            "78/78 [==============================] - 26s 328ms/step - loss: 0.4353 - accuracy: 0.8909 - val_loss: 0.4827 - val_accuracy: 0.8542\n",
            "Epoch 26/50\n",
            "78/78 [==============================] - ETA: 0s - loss: 0.4413 - accuracy: 0.8732\n",
            "Epoch 00026: val_loss improved from 0.48272 to 0.47971, saving model to /content/gdrive/My Drive/Resnet_wc/resnet_model.h5\n",
            "78/78 [==============================] - 27s 346ms/step - loss: 0.4413 - accuracy: 0.8732 - val_loss: 0.4797 - val_accuracy: 0.8542\n",
            "Epoch 27/50\n",
            "78/78 [==============================] - ETA: 0s - loss: 0.4378 - accuracy: 0.8708\n",
            "Epoch 00027: val_loss improved from 0.47971 to 0.47697, saving model to /content/gdrive/My Drive/Resnet_wc/resnet_model.h5\n",
            "78/78 [==============================] - 27s 343ms/step - loss: 0.4378 - accuracy: 0.8708 - val_loss: 0.4770 - val_accuracy: 0.8526\n",
            "Epoch 28/50\n",
            "78/78 [==============================] - ETA: 0s - loss: 0.4090 - accuracy: 0.8925\n",
            "Epoch 00028: val_loss improved from 0.47697 to 0.47304, saving model to /content/gdrive/My Drive/Resnet_wc/resnet_model.h5\n",
            "78/78 [==============================] - 27s 341ms/step - loss: 0.4090 - accuracy: 0.8925 - val_loss: 0.4730 - val_accuracy: 0.8558\n",
            "Epoch 29/50\n",
            "78/78 [==============================] - ETA: 0s - loss: 0.4198 - accuracy: 0.8973\n",
            "Epoch 00029: val_loss improved from 0.47304 to 0.47074, saving model to /content/gdrive/My Drive/Resnet_wc/resnet_model.h5\n",
            "78/78 [==============================] - 26s 336ms/step - loss: 0.4198 - accuracy: 0.8973 - val_loss: 0.4707 - val_accuracy: 0.8558\n",
            "Epoch 30/50\n",
            "78/78 [==============================] - ETA: 0s - loss: 0.4115 - accuracy: 0.8933\n",
            "Epoch 00030: val_loss improved from 0.47074 to 0.46675, saving model to /content/gdrive/My Drive/Resnet_wc/resnet_model.h5\n",
            "78/78 [==============================] - 26s 337ms/step - loss: 0.4115 - accuracy: 0.8933 - val_loss: 0.4668 - val_accuracy: 0.8574\n",
            "Epoch 31/50\n",
            "78/78 [==============================] - ETA: 0s - loss: 0.4038 - accuracy: 0.8918\n",
            "Epoch 00031: val_loss improved from 0.46675 to 0.46422, saving model to /content/gdrive/My Drive/Resnet_wc/resnet_model.h5\n",
            "78/78 [==============================] - 26s 339ms/step - loss: 0.4038 - accuracy: 0.8918 - val_loss: 0.4642 - val_accuracy: 0.8606\n",
            "Epoch 32/50\n",
            "78/78 [==============================] - ETA: 0s - loss: 0.4118 - accuracy: 0.8756\n",
            "Epoch 00032: val_loss improved from 0.46422 to 0.46158, saving model to /content/gdrive/My Drive/Resnet_wc/resnet_model.h5\n",
            "78/78 [==============================] - 26s 337ms/step - loss: 0.4118 - accuracy: 0.8756 - val_loss: 0.4616 - val_accuracy: 0.8574\n",
            "Epoch 33/50\n",
            "78/78 [==============================] - ETA: 0s - loss: 0.4090 - accuracy: 0.8892\n",
            "Epoch 00033: val_loss improved from 0.46158 to 0.45714, saving model to /content/gdrive/My Drive/Resnet_wc/resnet_model.h5\n",
            "78/78 [==============================] - 26s 335ms/step - loss: 0.4090 - accuracy: 0.8892 - val_loss: 0.4571 - val_accuracy: 0.8638\n",
            "Epoch 34/50\n",
            "78/78 [==============================] - ETA: 0s - loss: 0.4109 - accuracy: 0.8876\n",
            "Epoch 00034: val_loss improved from 0.45714 to 0.45711, saving model to /content/gdrive/My Drive/Resnet_wc/resnet_model.h5\n",
            "78/78 [==============================] - 26s 337ms/step - loss: 0.4109 - accuracy: 0.8876 - val_loss: 0.4571 - val_accuracy: 0.8606\n",
            "Epoch 35/50\n",
            "78/78 [==============================] - ETA: 0s - loss: 0.3874 - accuracy: 0.9053\n",
            "Epoch 00035: val_loss did not improve from 0.45711\n",
            "78/78 [==============================] - 24s 307ms/step - loss: 0.3874 - accuracy: 0.9053 - val_loss: 0.4575 - val_accuracy: 0.8606\n",
            "Epoch 36/50\n",
            "78/78 [==============================] - ETA: 0s - loss: 0.3988 - accuracy: 0.8925\n",
            "Epoch 00036: val_loss improved from 0.45711 to 0.45292, saving model to /content/gdrive/My Drive/Resnet_wc/resnet_model.h5\n",
            "78/78 [==============================] - 26s 332ms/step - loss: 0.3988 - accuracy: 0.8925 - val_loss: 0.4529 - val_accuracy: 0.8638\n",
            "Epoch 37/50\n",
            "78/78 [==============================] - ETA: 0s - loss: 0.3762 - accuracy: 0.9013\n",
            "Epoch 00037: val_loss improved from 0.45292 to 0.44993, saving model to /content/gdrive/My Drive/Resnet_wc/resnet_model.h5\n",
            "78/78 [==============================] - 26s 331ms/step - loss: 0.3762 - accuracy: 0.9013 - val_loss: 0.4499 - val_accuracy: 0.8654\n",
            "Epoch 38/50\n",
            "78/78 [==============================] - ETA: 0s - loss: 0.3749 - accuracy: 0.8981\n",
            "Epoch 00038: val_loss did not improve from 0.44993\n",
            "78/78 [==============================] - 24s 302ms/step - loss: 0.3749 - accuracy: 0.8981 - val_loss: 0.4507 - val_accuracy: 0.8638\n",
            "Epoch 39/50\n",
            "78/78 [==============================] - ETA: 0s - loss: 0.3855 - accuracy: 0.8965\n",
            "Epoch 00039: val_loss improved from 0.44993 to 0.44949, saving model to /content/gdrive/My Drive/Resnet_wc/resnet_model.h5\n",
            "78/78 [==============================] - 26s 332ms/step - loss: 0.3855 - accuracy: 0.8965 - val_loss: 0.4495 - val_accuracy: 0.8638\n",
            "Epoch 40/50\n",
            "78/78 [==============================] - ETA: 0s - loss: 0.3892 - accuracy: 0.8981\n",
            "Epoch 00040: val_loss improved from 0.44949 to 0.44412, saving model to /content/gdrive/My Drive/Resnet_wc/resnet_model.h5\n",
            "78/78 [==============================] - 26s 333ms/step - loss: 0.3892 - accuracy: 0.8981 - val_loss: 0.4441 - val_accuracy: 0.8622\n",
            "Epoch 41/50\n",
            "78/78 [==============================] - ETA: 0s - loss: 0.3633 - accuracy: 0.9109\n",
            "Epoch 00041: val_loss improved from 0.44412 to 0.44282, saving model to /content/gdrive/My Drive/Resnet_wc/resnet_model.h5\n",
            "78/78 [==============================] - 26s 328ms/step - loss: 0.3633 - accuracy: 0.9109 - val_loss: 0.4428 - val_accuracy: 0.8622\n",
            "Epoch 42/50\n",
            "78/78 [==============================] - ETA: 0s - loss: 0.3515 - accuracy: 0.9109\n",
            "Epoch 00042: val_loss improved from 0.44282 to 0.44134, saving model to /content/gdrive/My Drive/Resnet_wc/resnet_model.h5\n",
            "78/78 [==============================] - 26s 333ms/step - loss: 0.3515 - accuracy: 0.9109 - val_loss: 0.4413 - val_accuracy: 0.8622\n",
            "Epoch 43/50\n",
            "78/78 [==============================] - ETA: 0s - loss: 0.3632 - accuracy: 0.9029\n",
            "Epoch 00043: val_loss improved from 0.44134 to 0.43956, saving model to /content/gdrive/My Drive/Resnet_wc/resnet_model.h5\n",
            "78/78 [==============================] - 26s 329ms/step - loss: 0.3632 - accuracy: 0.9029 - val_loss: 0.4396 - val_accuracy: 0.8638\n",
            "Epoch 44/50\n",
            "78/78 [==============================] - ETA: 0s - loss: 0.3483 - accuracy: 0.9181\n",
            "Epoch 00044: val_loss improved from 0.43956 to 0.43874, saving model to /content/gdrive/My Drive/Resnet_wc/resnet_model.h5\n",
            "78/78 [==============================] - 26s 329ms/step - loss: 0.3483 - accuracy: 0.9181 - val_loss: 0.4387 - val_accuracy: 0.8622\n",
            "Epoch 45/50\n",
            "78/78 [==============================] - ETA: 0s - loss: 0.3560 - accuracy: 0.9109\n",
            "Epoch 00045: val_loss improved from 0.43874 to 0.43292, saving model to /content/gdrive/My Drive/Resnet_wc/resnet_model.h5\n",
            "78/78 [==============================] - 25s 325ms/step - loss: 0.3560 - accuracy: 0.9109 - val_loss: 0.4329 - val_accuracy: 0.8654\n",
            "Epoch 46/50\n",
            "78/78 [==============================] - ETA: 0s - loss: 0.3707 - accuracy: 0.8981\n",
            "Epoch 00046: val_loss improved from 0.43292 to 0.43221, saving model to /content/gdrive/My Drive/Resnet_wc/resnet_model.h5\n",
            "78/78 [==============================] - 25s 326ms/step - loss: 0.3707 - accuracy: 0.8981 - val_loss: 0.4322 - val_accuracy: 0.8686\n",
            "Epoch 47/50\n",
            "78/78 [==============================] - ETA: 0s - loss: 0.3435 - accuracy: 0.9101\n",
            "Epoch 00047: val_loss improved from 0.43221 to 0.42994, saving model to /content/gdrive/My Drive/Resnet_wc/resnet_model.h5\n",
            "78/78 [==============================] - 26s 331ms/step - loss: 0.3435 - accuracy: 0.9101 - val_loss: 0.4299 - val_accuracy: 0.8670\n",
            "Epoch 48/50\n",
            "78/78 [==============================] - ETA: 0s - loss: 0.3503 - accuracy: 0.9045\n",
            "Epoch 00048: val_loss improved from 0.42994 to 0.42755, saving model to /content/gdrive/My Drive/Resnet_wc/resnet_model.h5\n",
            "78/78 [==============================] - 26s 329ms/step - loss: 0.3503 - accuracy: 0.9045 - val_loss: 0.4276 - val_accuracy: 0.8686\n",
            "Epoch 49/50\n",
            "78/78 [==============================] - ETA: 0s - loss: 0.3467 - accuracy: 0.9077\n",
            "Epoch 00049: val_loss improved from 0.42755 to 0.42644, saving model to /content/gdrive/My Drive/Resnet_wc/resnet_model.h5\n",
            "78/78 [==============================] - 25s 327ms/step - loss: 0.3467 - accuracy: 0.9077 - val_loss: 0.4264 - val_accuracy: 0.8686\n",
            "Epoch 50/50\n",
            "78/78 [==============================] - ETA: 0s - loss: 0.3423 - accuracy: 0.9189\n",
            "Epoch 00050: val_loss improved from 0.42644 to 0.42020, saving model to /content/gdrive/My Drive/Resnet_wc/resnet_model.h5\n",
            "78/78 [==============================] - 26s 331ms/step - loss: 0.3423 - accuracy: 0.9189 - val_loss: 0.4202 - val_accuracy: 0.8718\n"
          ],
          "name": "stdout"
        }
      ]
    },
    {
      "cell_type": "code",
      "metadata": {
        "id": "wtGzRPSzg6p5",
        "colab_type": "code",
        "colab": {
          "base_uri": "https://localhost:8080/",
          "height": 313
        },
        "outputId": "0b2d10c1-94ee-40f7-a101-e25ae0ea01ec"
      },
      "source": [
        "print(history.history.keys())\n",
        "# summarize history for accuracy\n",
        "plt.plot(history.history['accuracy'])\n",
        "plt.plot(history.history['val_accuracy'])\n",
        "plt.title('model accuracy')\n",
        "plt.ylabel('accuracy')\n",
        "plt.xlabel('epoch')\n",
        "plt.legend(['train', 'test'], loc='upper left')\n",
        "plt.show()"
      ],
      "execution_count": 79,
      "outputs": [
        {
          "output_type": "stream",
          "text": [
            "dict_keys(['loss', 'accuracy', 'val_loss', 'val_accuracy', 'lr'])\n"
          ],
          "name": "stdout"
        },
        {
          "output_type": "display_data",
          "data": {
            "image/png": "[encoded data removed]",
            "text/plain": [
              "<Figure size 432x288 with 1 Axes>"
            ]
          },
          "metadata": {
            "tags": [],
            "needs_background": "light"
          }
        }
      ]
    },
    {
      "cell_type": "code",
      "metadata": {
        "id": "egLaAMeVg-cm",
        "colab_type": "code",
        "colab": {
          "base_uri": "https://localhost:8080/",
          "height": 295
        },
        "outputId": "a3ec2635-5758-4272-bd60-d106a2bc5b16"
      },
      "source": [
        "plt.plot(history.history['loss'])\n",
        "plt.plot(history.history['val_loss'])\n",
        "plt.title('model loss')\n",
        "plt.ylabel('loss')\n",
        "plt.xlabel('epoch')\n",
        "plt.legend(['train', 'test'], loc='upper left')\n",
        "plt.show()"
      ],
      "execution_count": 80,
      "outputs": [
        {
          "output_type": "display_data",
          "data": {
            "image/png": "[encoded data removed]",
            "text/plain": [
              "<Figure size 432x288 with 1 Axes>"
            ]
          },
          "metadata": {
            "tags": [],
            "needs_background": "light"
          }
        }
      ]
    },
    {
      "cell_type": "code",
      "metadata": {
        "id": "E6YITFwMhGHQ",
        "colab_type": "code",
        "colab": {}
      },
      "source": [
        "inception_transfer.load_weights((output_dir + \"/resnet_model.h5\"))\n",
        "train_gen.reset()\n",
        "test_gen.reset()"
      ],
      "execution_count": 83,
      "outputs": []
    },
    {
      "cell_type": "code",
      "metadata": {
        "id": "EzbvgX4ohL-Y",
        "colab_type": "code",
        "colab": {
          "base_uri": "https://localhost:8080/",
          "height": 87
        },
        "outputId": "952885d1-53e4-4404-ffc4-aaf942566183"
      },
      "source": [
        "verbose = 1\n",
        "loss_t, accuracy_t = inception_transfer.evaluate(train_gen, steps=(train_gen.n // batch_size), verbose=verbose)\n",
        "loss, accuracy = inception_transfer.evaluate(test_gen, steps=(test_gen.n // batch_size) , verbose=verbose)\n",
        "print(\"Train: accuracy = %f  ;  loss_v = %f\" % (accuracy_t, loss_t))\n",
        "print(\"Test: accuracy = %f  ;  loss_v = %f\" % (accuracy, loss))"
      ],
      "execution_count": 85,
      "outputs": [
        {
          "output_type": "stream",
          "text": [
            "78/78 [==============================] - 18s 232ms/step - loss: 0.2155 - accuracy: 0.9591\n",
            "39/39 [==============================] - 3s 75ms/step - loss: 0.4202 - accuracy: 0.8718\n",
            "Train: accuracy = 0.959135  ;  loss_v = 0.215453\n",
            "Test: accuracy = 0.871795  ;  loss_v = 0.420204\n"
          ],
          "name": "stdout"
        }
      ]
    },
    {
      "cell_type": "code",
      "metadata": {
        "id": "1Mh7JmBNhQ6g",
        "colab_type": "code",
        "colab": {
          "base_uri": "https://localhost:8080/",
          "height": 72
        },
        "outputId": "651bee89-8509-4143-c979-56c90cf92a6f"
      },
      "source": [
        "y_pred = inception_transfer.predict(test_gen, steps=(test_gen.n // batch_size)+1, verbose=verbose)\n",
        "y_true = test_gen.classes[test_gen.index_array]"
      ],
      "execution_count": 86,
      "outputs": [
        {
          "output_type": "stream",
          "text": [
            " 2/40 [>.............................] - ETA: 1sWARNING:tensorflow:Callbacks method `on_predict_batch_end` is slow compared to the batch time (batch time: 0.0268s vs `on_predict_batch_end` time: 0.0570s). Check your callbacks.\n",
            "40/40 [==============================] - 3s 78ms/step\n"
          ],
          "name": "stdout"
        }
      ]
    },
    {
      "cell_type": "code",
      "metadata": {
        "id": "1mjmI1c4hZAX",
        "colab_type": "code",
        "colab": {}
      },
      "source": [
        "y_pred_int = np.argmax(y_pred,axis =1)"
      ],
      "execution_count": 87,
      "outputs": []
    },
    {
      "cell_type": "code",
      "metadata": {
        "id": "7NszCib98mi2",
        "colab_type": "code",
        "colab": {}
      },
      "source": [
        "labels = os.listdir(r'/content/data/train')"
      ],
      "execution_count": 89,
      "outputs": []
    },
    {
      "cell_type": "code",
      "metadata": {
        "id": "wUnJ4WJYhjBI",
        "colab_type": "code",
        "colab": {
          "base_uri": "https://localhost:8080/",
          "height": 483
        },
        "outputId": "2461c515-5d7e-411d-9a1f-90d8b8f17e9d"
      },
      "source": [
        "cm = confusion_matrix(y_true, y_pred_int)\n",
        "classes = labels\n",
        "df_cm = pd.DataFrame(cm, waste_types, waste_types)\n",
        "plt.figure(figsize=(10,8))\n",
        "ax = sns.heatmap(df_cm, annot=True, square=True, fmt=\"d\", linewidths=.2, cbar_kws={\"shrink\": 0.8},cmap=\"Blues\")\n",
        "if output_dir:\n",
        "    plt.savefig(output_dir + \"/resnet_confusion_matrix.png\")"
      ],
      "execution_count": 173,
      "outputs": [
        {
          "output_type": "display_data",
          "data": {
            "image/png": "[encoded data removed]",
            "text/plain": [
              "<Figure size 720x576 with 2 Axes>"
            ]
          },
          "metadata": {
            "tags": [],
            "needs_background": "light"
          }
        }
      ]
    },
    {
      "cell_type": "code",
      "metadata": {
        "id": "Id9KVwd9hnzR",
        "colab_type": "code",
        "colab": {}
      },
      "source": [
        "class_report = classification_report(y_true, y_pred.argmax(axis=-1), target_names=labels ,output_dict=True)"
      ],
      "execution_count": 92,
      "outputs": []
    },
    {
      "cell_type": "code",
      "metadata": {
        "id": "dqmDnHDjhumg",
        "colab_type": "code",
        "colab": {}
      },
      "source": [
        "df = pd.DataFrame(class_report).transpose()\n",
        "df.to_csv(output_dir + '/classification_report')"
      ],
      "execution_count": 93,
      "outputs": []
    },
    {
      "cell_type": "code",
      "metadata": {
        "id": "ViDDO1w0uaXg",
        "colab_type": "code",
        "colab": {}
      },
      "source": [
        "!mv /content/data/test_image/test/test /content/data/test_parent"
      ],
      "execution_count": 106,
      "outputs": []
    },
    {
      "cell_type": "code",
      "metadata": {
        "id": "OdDmQSibvTaM",
        "colab_type": "code",
        "colab": {
          "base_uri": "https://localhost:8080/",
          "height": 34
        },
        "outputId": "aa17a4cb-61e0-4eb1-8ebf-3c4fa0e7e236"
      },
      "source": [
        "!rm /content/data/test_image/test"
      ],
      "execution_count": 108,
      "outputs": [
        {
          "output_type": "stream",
          "text": [
            "rm: cannot remove '/content/data/test_image/test': Is a directory\n"
          ],
          "name": "stdout"
        }
      ]
    },
    {
      "cell_type": "code",
      "metadata": {
        "id": "czro8pDnswfj",
        "colab_type": "code",
        "colab": {
          "base_uri": "https://localhost:8080/",
          "height": 34
        },
        "outputId": "e3f4a8c0-b976-4f2f-eb31-7e39889b7189"
      },
      "source": [
        "final_test_datagen = ImageDataGenerator(\n",
        "                rescale =1./255)\n",
        "final_test_gen =  final_test_datagen.flow_from_directory(r'/content/data/test_parent',\n",
        "                                                    target_size=(224, 224),\n",
        "                                                    batch_size=16,\n",
        "                                                    color_mode=\"rgb\",\n",
        "                                                    shuffle =False,\n",
        "                                                    class_mode=None)"
      ],
      "execution_count": 111,
      "outputs": [
        {
          "output_type": "stream",
          "text": [
            "Found 635 images belonging to 2 classes.\n"
          ],
          "name": "stdout"
        }
      ]
    },
    {
      "cell_type": "code",
      "metadata": {
        "id": "zlGNr_HjxWJT",
        "colab_type": "code",
        "colab": {}
      },
      "source": [
        "labels = (train_gen.class_indices)\n",
        "labels = dict((v,k) for k,v in labels.items())"
      ],
      "execution_count": 127,
      "outputs": []
    },
    {
      "cell_type": "code",
      "metadata": {
        "id": "Cswa4p-jyAnW",
        "colab_type": "code",
        "colab": {
          "base_uri": "https://localhost:8080/",
          "height": 34
        },
        "outputId": "805a92f2-61b3-4adf-f9ed-05f52021b3b8"
      },
      "source": [
        "labels"
      ],
      "execution_count": 157,
      "outputs": [
        {
          "output_type": "execute_result",
          "data": {
            "text/plain": [
              "{0: 'cardboard', 1: 'glass', 2: 'metal', 3: 'paper', 4: 'plastic', 5: 'trash'}"
            ]
          },
          "metadata": {
            "tags": []
          },
          "execution_count": 157
        }
      ]
    },
    {
      "cell_type": "code",
      "metadata": {
        "id": "nqlRuV0bBG_z",
        "colab_type": "code",
        "colab": {}
      },
      "source": [
        "pred = inception_transfer.predict_generator(final_test_gen)"
      ],
      "execution_count": 129,
      "outputs": []
    },
    {
      "cell_type": "code",
      "metadata": {
        "id": "idbNGS76EgB8",
        "colab_type": "code",
        "colab": {}
      },
      "source": [
        "predicted_class_indices=np.argmax(pred,axis=1)"
      ],
      "execution_count": 130,
      "outputs": []
    },
    {
      "cell_type": "code",
      "metadata": {
        "id": "cs0UYI1QyNwI",
        "colab_type": "code",
        "colab": {}
      },
      "source": [
        "y_hat = [labels[k] for k in predicted_class_indices]"
      ],
      "execution_count": 140,
      "outputs": []
    },
    {
      "cell_type": "code",
      "metadata": {
        "id": "avPkwSkYWCtQ",
        "colab_type": "code",
        "colab": {}
      },
      "source": [
        "y = []\n",
        "for label_path in final_test_gen.filenames:\n",
        "  y.append(str(label_path))\n",
        "    "
      ],
      "execution_count": 134,
      "outputs": []
    },
    {
      "cell_type": "code",
      "metadata": {
        "id": "Zxt3oQafw4Uc",
        "colab_type": "code",
        "colab": {}
      },
      "source": [
        "y  = [w.replace('test/', '') for w in y]"
      ],
      "execution_count": 136,
      "outputs": []
    },
    {
      "cell_type": "code",
      "metadata": {
        "id": "dGCFm4jSz9sa",
        "colab_type": "code",
        "colab": {}
      },
      "source": [
        "pattern = re.compile(\"([a-z]+)[0-9]+\")\n",
        "for i in range(len(y)):\n",
        "    y[i] = pattern.search(y[i]).group(1)"
      ],
      "execution_count": 138,
      "outputs": []
    },
    {
      "cell_type": "code",
      "metadata": {
        "id": "uGPqCer70COP",
        "colab_type": "code",
        "colab": {
          "base_uri": "https://localhost:8080/",
          "height": 122
        },
        "outputId": "38c1732d-5201-4b73-86e0-375d92ae874a"
      },
      "source": [
        "cm = confusion_matrix(y,y_hat,l)\n",
        "print(cm)"
      ],
      "execution_count": 161,
      "outputs": [
        {
          "output_type": "stream",
          "text": [
            "[[ 89   0   0  11   1   0]\n",
            " [  0  98  16   2  10   0]\n",
            " [  0   3  87   1   6   6]\n",
            " [  1   2   2 141   1   2]\n",
            " [  0   6   8   1 105   1]\n",
            " [  0   3   6   7   2  17]]\n"
          ],
          "name": "stdout"
        }
      ]
    },
    {
      "cell_type": "code",
      "metadata": {
        "id": "zyXZry9R0Ebg",
        "colab_type": "code",
        "colab": {
          "base_uri": "https://localhost:8080/",
          "height": 484
        },
        "outputId": "c9e2df43-b408-4c77-9538-e9cce210795d"
      },
      "source": [
        "f_cm = pd.DataFrame(cm,waste_types,waste_types)\n",
        "\n",
        "plt.figure(figsize=(10,8))\n",
        "sns.heatmap(f_cm,annot=True,fmt=\"d\",cmap=\"YlGnBu\")\n",
        "if output_dir:\n",
        "    plt.savefig(output_dir + \"/resnet_test_confusion_matrix.png\")"
      ],
      "execution_count": 174,
      "outputs": [
        {
          "output_type": "display_data",
          "data": {
            "image/png": "[encoded data removed]",
            "text/plain": [
              "<Figure size 720x576 with 2 Axes>"
            ]
          },
          "metadata": {
            "tags": [],
            "needs_background": "light"
          }
        }
      ]
    },
    {
      "cell_type": "code",
      "metadata": {
        "id": "LhNsh0Q40pkJ",
        "colab_type": "code",
        "colab": {
          "base_uri": "https://localhost:8080/",
          "height": 34
        },
        "outputId": "b387c383-166e-4cc3-e633-3d7f52e32768"
      },
      "source": [
        "correct = 0\n",
        "\n",
        "for r in range(len(cm)):\n",
        "    for c in range(len(cm)):\n",
        "        if (r==c):\n",
        "            correct += cm[r,c]\n",
        "\n",
        "accuracy = correct/sum(sum(cm))\n",
        "accuracy"
      ],
      "execution_count": 167,
      "outputs": [
        {
          "output_type": "execute_result",
          "data": {
            "text/plain": [
              "0.8456692913385827"
            ]
          },
          "metadata": {
            "tags": []
          },
          "execution_count": 167
        }
      ]
    },
    {
      "cell_type": "code",
      "metadata": {
        "id": "xHsqcqN-0zuL",
        "colab_type": "code",
        "colab": {}
      },
      "source": [
        ""
      ],
      "execution_count": null,
      "outputs": []
    }
  ]
}